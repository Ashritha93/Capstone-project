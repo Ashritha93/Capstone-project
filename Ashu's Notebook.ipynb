{
 "cells": [
  {
   "cell_type": "code",
   "execution_count": 1,
   "metadata": {},
   "outputs": [
    {
     "name": "stderr",
     "output_type": "stream",
     "text": [
      
     ]
    }
   ],
   "source": [
    "import os\n",
    "import pandas as pd\n",
    "import numpy as np\n",
    "from sklearn.model_selection import train_test_split\n",
    "from sklearn.compose import ColumnTransformer\n",
    "from sklearn.pipeline import Pipeline\n",
    "from sklearn.impute import SimpleImputer\n",
    "from sklearn.preprocessing import StandardScaler, OneHotEncoder\n",
    "from sklearn.tree import DecisionTreeClassifier\n",
    "from sklearn.ensemble import RandomForestClassifier\n",
    "from xgboost import XGBClassifier\n",
    "from sklearn.metrics import accuracy_score, classification_report\n",
    "import matplotlib\n",
    "from matplotlib import pyplot as plt\n",
    "%matplotlib inline"
   ]
  },
  {
   "cell_type": "code",
   "execution_count": 2,
   "metadata": {},
   "outputs": [],
   "source": [
    "zomato = pd.read_csv(\"C:/Users/ASHRITHA/Downloads/Zomato_reduced.csv\", na_values = [\"-\", \"\"])"
   ]
  },
  {
   "cell_type": "code",
   "execution_count": 4,
   "metadata": {},
   "outputs": [],
   "source": [
    "data = zomato.rename({\"approx_cost(for two people)\": \"cost\"}, axis=1)\n",
    "data[\"cost\"] = data[\"cost\"].replace(\",\", \"\", regex = True)\n",
    "data[[\"cost\"]] = data[[\"cost\"]].apply(pd.to_numeric)"
   ]
  },
  {
   "cell_type": "code",
   "execution_count": 5,
   "metadata": {},
   "outputs": [],
   "source": [
    "grouped = data.groupby([\"name\", \"address\"]).agg({\"listed_in(type)\" : list})\n",
    "newdata = pd.merge(grouped, data, on = ([\"name\", \"address\"]))"
   ]
  },
  {
   "cell_type": "code",
   "execution_count": 6,
   "metadata": {},
   "outputs": [],
   "source": [
    "newdata[\"listed_in(type)_x\"] = newdata[\"listed_in(type)_x\"].astype(str)"
   ]
  },
  {
   "cell_type": "code",
   "execution_count": 7,
   "metadata": {},
   "outputs": [],
   "source": [
    "newdata.drop_duplicates(subset = [\"name\", \"address\", \"listed_in(type)_x\"], inplace = True)"
   ]
  },
  {
   "cell_type": "code",
   "execution_count": 8,
   "metadata": {},
   "outputs": [],
   "source": [
    "newdata.index = newdata[\"name\"]"
   ]
  },
  {
   "cell_type": "code",
   "execution_count": 28,
   "metadata": {},
   "outputs": [
    {
     "data": {
      "text/html": [
       "<div>\n",
       "<style scoped>\n",
       "    .dataframe tbody tr th:only-of-type {\n",
       "        vertical-align: middle;\n",
       "    }\n",
       "\n",
       "    .dataframe tbody tr th {\n",
       "        vertical-align: top;\n",
       "    }\n",
       "\n",
       "    .dataframe thead th {\n",
       "        text-align: right;\n",
       "    }\n",
       "</style>\n",
       "<table border=\"1\" class=\"dataframe\">\n",
       "  <thead>\n",
       "    <tr style=\"text-align: right;\">\n",
       "      <th></th>\n",
       "      <th>online_order</th>\n",
       "      <th>book_table</th>\n",
       "      <th>rate</th>\n",
       "      <th>votes</th>\n",
       "      <th>location</th>\n",
       "      <th>rest_type</th>\n",
       "      <th>cost</th>\n",
       "    </tr>\n",
       "    <tr>\n",
       "      <th>name</th>\n",
       "      <th></th>\n",
       "      <th></th>\n",
       "      <th></th>\n",
       "      <th></th>\n",
       "      <th></th>\n",
       "      <th></th>\n",
       "      <th></th>\n",
       "    </tr>\n",
       "  </thead>\n",
       "  <tbody>\n",
       "    <tr>\n",
       "      <th>#FeelTheROLL</th>\n",
       "      <td>No</td>\n",
       "      <td>No</td>\n",
       "      <td>3.4/5</td>\n",
       "      <td>7</td>\n",
       "      <td>Bellandur</td>\n",
       "      <td>Quick Bites</td>\n",
       "      <td>200.0</td>\n",
       "    </tr>\n",
       "    <tr>\n",
       "      <th>#L-81 Cafe</th>\n",
       "      <td>Yes</td>\n",
       "      <td>No</td>\n",
       "      <td>3.9/5</td>\n",
       "      <td>48</td>\n",
       "      <td>HSR</td>\n",
       "      <td>Quick Bites</td>\n",
       "      <td>400.0</td>\n",
       "    </tr>\n",
       "    <tr>\n",
       "      <th>#Vibes Restro</th>\n",
       "      <td>No</td>\n",
       "      <td>No</td>\n",
       "      <td>NaN</td>\n",
       "      <td>0</td>\n",
       "      <td>Electronic City</td>\n",
       "      <td>Casual Dining</td>\n",
       "      <td>700.0</td>\n",
       "    </tr>\n",
       "    <tr>\n",
       "      <th>#refuel</th>\n",
       "      <td>Yes</td>\n",
       "      <td>No</td>\n",
       "      <td>3.7/5</td>\n",
       "      <td>37</td>\n",
       "      <td>Bannerghatta Road</td>\n",
       "      <td>Cafe</td>\n",
       "      <td>400.0</td>\n",
       "    </tr>\n",
       "    <tr>\n",
       "      <th>'Brahmins' Thatte Idli</th>\n",
       "      <td>Yes</td>\n",
       "      <td>No</td>\n",
       "      <td>NaN</td>\n",
       "      <td>0</td>\n",
       "      <td>Basaveshwara Nagar</td>\n",
       "      <td>Quick Bites</td>\n",
       "      <td>100.0</td>\n",
       "    </tr>\n",
       "  </tbody>\n",
       "</table>\n",
       "</div>"
      ],
      "text/plain": [
       "                       online_order book_table   rate  votes  \\\n",
       "name                                                           \n",
       "#FeelTheROLL                     No         No  3.4/5      7   \n",
       "#L-81 Cafe                      Yes         No  3.9/5     48   \n",
       "#Vibes Restro                    No         No    NaN      0   \n",
       "#refuel                         Yes         No  3.7/5     37   \n",
       "'Brahmins' Thatte Idli          Yes         No    NaN      0   \n",
       "\n",
       "                                  location      rest_type   cost  \n",
       "name                                                              \n",
       "#FeelTheROLL                     Bellandur    Quick Bites  200.0  \n",
       "#L-81 Cafe                             HSR    Quick Bites  400.0  \n",
       "#Vibes Restro              Electronic City  Casual Dining  700.0  \n",
       "#refuel                  Bannerghatta Road           Cafe  400.0  \n",
       "'Brahmins' Thatte Idli  Basaveshwara Nagar    Quick Bites  100.0  "
      ]
     },
     "execution_count": 28,
     "metadata": {},
     "output_type": "execute_result"
    }
   ],
   "source": [
    "newdata.drop([\"name\", \"url\", \"phone\", \"listed_in(city)\", \"listed_in(type)_x\", \"address\", \"dish_liked\",  \"listed_in(type)_y\", \"menu_item\", \"cuisines\", \"reviews_list\"], axis = 1, inplace = True)"
   ]
  },
  {
   "cell_type": "code",
   "execution_count": 9,
   "metadata": {},
   "outputs": [],
   "source": [
    "newdata[\"rating\"] = newdata[\"rate\"].str[:3]\n",
    "newdata.drop([\"rate\"], axis = 1, inplace = True)"
   ]
  },
  {
   "cell_type": "code",
   "execution_count": 10,
   "metadata": {},
   "outputs": [],
   "source": [
    "newdata = newdata[newdata.rating != \"NEW\"]"
   ]
  },
  {
   "cell_type": "code",
   "execution_count": 11,
   "metadata": {},
   "outputs": [],
   "source": [
    "newdata = newdata.dropna(subset = [\"rating\"])\n",
    "newdata[\"rating\"] = pd.to_numeric(newdata[\"rating\"])"
   ]
  },
  {
   "cell_type": "code",
   "execution_count": 12,
   "metadata": {},
   "outputs": [
    {
     "data": {
      "image/png": "[encoded data removed]",
      "text/plain": [
       "<Figure size 720x360 with 1 Axes>"
      ]
     },
     "metadata": {
      "needs_background": "light"
     },
     "output_type": "display_data"
    }
   ],
   "source": [
    "plt.figure(figsize = (10, 5))\n",
    "plt.hist(newdata.rating, bins = 20, color = \"r\")\n",
    "plt.show()\n"
   ]
  },
  {
   "cell_type": "code",
   "execution_count": 33,
   "metadata": {},
   "outputs": [
    {
     "data": {
      "text/plain": [
       "Whitefield           617\n",
       "BTM                  518\n",
       "HSR                  517\n",
       "Marathahalli         498\n",
       "Electronic City      458\n",
       "Indiranagar          435\n",
       "JP Nagar             372\n",
       "Bannerghatta Road    350\n",
       "Jayanagar            306\n",
       "Bellandur            260\n",
       "Name: location, dtype: int64"
      ]
     },
     "execution_count": 33,
     "metadata": {},
     "output_type": "execute_result"
    }
   ],
   "source": [
    "newdata[\"location\"].value_counts()[:10]"
   ]
  },
  {
   "cell_type": "code",
   "execution_count": 13,
   "metadata": {},
   "outputs": [],
   "source": [
    "highest_rating = (pd.DataFrame(newdata.groupby(\"location\")[\"rating\"].mean())).sort_values(\"rating\", ascending = False)"
   ]
  },
  {
   "cell_type": "code",
   "execution_count": 14,
   "metadata": {},
   "outputs": [],
   "source": [
    "costliest = (pd.DataFrame(newdata.groupby(\"location\")[\"cost\"].mean())).sort_values(\"cost\", ascending = False)"
   ]
  },
  {
   "cell_type": "code",
   "execution_count": 15,
   "metadata": {},
   "outputs": [],
   "source": [
    "newdata[\"rating\"] = pd.cut(newdata[\"rating\"], bins = [0, 3.0, 3.5, 4.0, 5.0], labels = [\"0\", \"1\", \"2\", \"3\"])"
   ]
  },
  {
   "cell_type": "code",
   "execution_count": 16,
   "metadata": {},
   "outputs": [
    {
     "data": {
      "text/plain": [
       "(array(['0', '1', '2', '3'], dtype=object), array([ 884, 2929, 4037, 1466]))"
      ]
     },
     "execution_count": 16,
     "metadata": {},
     "output_type": "execute_result"
    }
   ],
   "source": [
    "np.unique(newdata[\"rating\"], return_counts = True)"
   ]
  },
  {
   "cell_type": "code",
   "execution_count": 17,
   "metadata": {},
   "outputs": [
    {
     "data": {
      "text/html": [
       "<div>\n",
       "<style scoped>\n",
       "    .dataframe tbody tr th:only-of-type {\n",
       "        vertical-align: middle;\n",
       "    }\n",
       "\n",
       "    .dataframe tbody tr th {\n",
       "        vertical-align: top;\n",
       "    }\n",
       "\n",
       "    .dataframe thead th {\n",
       "        text-align: right;\n",
       "    }\n",
       "</style>\n",
       "<table border=\"1\" class=\"dataframe\">\n",
       "  <thead>\n",
       "    <tr style=\"text-align: right;\">\n",
       "      <th></th>\n",
       "      <th>name</th>\n",
       "      <th>address</th>\n",
       "      <th>listed_in(type)_x</th>\n",
       "      <th>url</th>\n",
       "      <th>online_order</th>\n",
       "      <th>book_table</th>\n",
       "      <th>votes</th>\n",
       "      <th>phone</th>\n",
       "      <th>location</th>\n",
       "      <th>rest_type</th>\n",
       "      <th>dish_liked</th>\n",
       "      <th>cuisines</th>\n",
       "      <th>cost</th>\n",
       "      <th>reviews_list</th>\n",
       "      <th>menu_item</th>\n",
       "      <th>listed_in(type)_y</th>\n",
       "      <th>listed_in(city)</th>\n",
       "      <th>rating</th>\n",
       "    </tr>\n",
       "  </thead>\n",
       "  <tbody>\n",
       "    <tr>\n",
       "      <th>count</th>\n",
       "      <td>9316</td>\n",
       "      <td>9316</td>\n",
       "      <td>9316</td>\n",
       "      <td>9316</td>\n",
       "      <td>9316</td>\n",
       "      <td>9316</td>\n",
       "      <td>9316.000000</td>\n",
       "      <td>9149</td>\n",
       "      <td>9316</td>\n",
       "      <td>9279</td>\n",
       "      <td>4577</td>\n",
       "      <td>9313</td>\n",
       "      <td>9284.000000</td>\n",
       "      <td>9316</td>\n",
       "      <td>9316</td>\n",
       "      <td>9316</td>\n",
       "      <td>9316</td>\n",
       "      <td>9316</td>\n",
       "    </tr>\n",
       "    <tr>\n",
       "      <th>unique</th>\n",
       "      <td>6512</td>\n",
       "      <td>8676</td>\n",
       "      <td>870</td>\n",
       "      <td>9316</td>\n",
       "      <td>2</td>\n",
       "      <td>2</td>\n",
       "      <td>NaN</td>\n",
       "      <td>8381</td>\n",
       "      <td>92</td>\n",
       "      <td>86</td>\n",
       "      <td>4249</td>\n",
       "      <td>2246</td>\n",
       "      <td>NaN</td>\n",
       "      <td>8964</td>\n",
       "      <td>1990</td>\n",
       "      <td>7</td>\n",
       "      <td>30</td>\n",
       "      <td>4</td>\n",
       "    </tr>\n",
       "    <tr>\n",
       "      <th>top</th>\n",
       "      <td>Cafe Coffee Day</td>\n",
       "      <td>Delivery Only</td>\n",
       "      <td>['Delivery', 'Dine-out']</td>\n",
       "      <td>https://www.zomato.com/bangalore/just-bake-kor...</td>\n",
       "      <td>Yes</td>\n",
       "      <td>No</td>\n",
       "      <td>NaN</td>\n",
       "      <td>080 43334321</td>\n",
       "      <td>Whitefield</td>\n",
       "      <td>Quick Bites</td>\n",
       "      <td>Biryani</td>\n",
       "      <td>North Indian</td>\n",
       "      <td>NaN</td>\n",
       "      <td>[]</td>\n",
       "      <td>[]</td>\n",
       "      <td>Delivery</td>\n",
       "      <td>BTM</td>\n",
       "      <td>2</td>\n",
       "    </tr>\n",
       "    <tr>\n",
       "      <th>freq</th>\n",
       "      <td>49</td>\n",
       "      <td>21</td>\n",
       "      <td>872</td>\n",
       "      <td>1</td>\n",
       "      <td>5705</td>\n",
       "      <td>8393</td>\n",
       "      <td>NaN</td>\n",
       "      <td>55</td>\n",
       "      <td>617</td>\n",
       "      <td>3445</td>\n",
       "      <td>47</td>\n",
       "      <td>484</td>\n",
       "      <td>NaN</td>\n",
       "      <td>332</td>\n",
       "      <td>7314</td>\n",
       "      <td>6519</td>\n",
       "      <td>1115</td>\n",
       "      <td>4037</td>\n",
       "    </tr>\n",
       "    <tr>\n",
       "      <th>mean</th>\n",
       "      <td>NaN</td>\n",
       "      <td>NaN</td>\n",
       "      <td>NaN</td>\n",
       "      <td>NaN</td>\n",
       "      <td>NaN</td>\n",
       "      <td>NaN</td>\n",
       "      <td>242.149420</td>\n",
       "      <td>NaN</td>\n",
       "      <td>NaN</td>\n",
       "      <td>NaN</td>\n",
       "      <td>NaN</td>\n",
       "      <td>NaN</td>\n",
       "      <td>536.684511</td>\n",
       "      <td>NaN</td>\n",
       "      <td>NaN</td>\n",
       "      <td>NaN</td>\n",
       "      <td>NaN</td>\n",
       "      <td>NaN</td>\n",
       "    </tr>\n",
       "    <tr>\n",
       "      <th>std</th>\n",
       "      <td>NaN</td>\n",
       "      <td>NaN</td>\n",
       "      <td>NaN</td>\n",
       "      <td>NaN</td>\n",
       "      <td>NaN</td>\n",
       "      <td>NaN</td>\n",
       "      <td>673.984948</td>\n",
       "      <td>NaN</td>\n",
       "      <td>NaN</td>\n",
       "      <td>NaN</td>\n",
       "      <td>NaN</td>\n",
       "      <td>NaN</td>\n",
       "      <td>426.150625</td>\n",
       "      <td>NaN</td>\n",
       "      <td>NaN</td>\n",
       "      <td>NaN</td>\n",
       "      <td>NaN</td>\n",
       "      <td>NaN</td>\n",
       "    </tr>\n",
       "    <tr>\n",
       "      <th>min</th>\n",
       "      <td>NaN</td>\n",
       "      <td>NaN</td>\n",
       "      <td>NaN</td>\n",
       "      <td>NaN</td>\n",
       "      <td>NaN</td>\n",
       "      <td>NaN</td>\n",
       "      <td>0.000000</td>\n",
       "      <td>NaN</td>\n",
       "      <td>NaN</td>\n",
       "      <td>NaN</td>\n",
       "      <td>NaN</td>\n",
       "      <td>NaN</td>\n",
       "      <td>40.000000</td>\n",
       "      <td>NaN</td>\n",
       "      <td>NaN</td>\n",
       "      <td>NaN</td>\n",
       "      <td>NaN</td>\n",
       "      <td>NaN</td>\n",
       "    </tr>\n",
       "    <tr>\n",
       "      <th>25%</th>\n",
       "      <td>NaN</td>\n",
       "      <td>NaN</td>\n",
       "      <td>NaN</td>\n",
       "      <td>NaN</td>\n",
       "      <td>NaN</td>\n",
       "      <td>NaN</td>\n",
       "      <td>16.000000</td>\n",
       "      <td>NaN</td>\n",
       "      <td>NaN</td>\n",
       "      <td>NaN</td>\n",
       "      <td>NaN</td>\n",
       "      <td>NaN</td>\n",
       "      <td>300.000000</td>\n",
       "      <td>NaN</td>\n",
       "      <td>NaN</td>\n",
       "      <td>NaN</td>\n",
       "      <td>NaN</td>\n",
       "      <td>NaN</td>\n",
       "    </tr>\n",
       "    <tr>\n",
       "      <th>50%</th>\n",
       "      <td>NaN</td>\n",
       "      <td>NaN</td>\n",
       "      <td>NaN</td>\n",
       "      <td>NaN</td>\n",
       "      <td>NaN</td>\n",
       "      <td>NaN</td>\n",
       "      <td>53.000000</td>\n",
       "      <td>NaN</td>\n",
       "      <td>NaN</td>\n",
       "      <td>NaN</td>\n",
       "      <td>NaN</td>\n",
       "      <td>NaN</td>\n",
       "      <td>400.000000</td>\n",
       "      <td>NaN</td>\n",
       "      <td>NaN</td>\n",
       "      <td>NaN</td>\n",
       "      <td>NaN</td>\n",
       "      <td>NaN</td>\n",
       "    </tr>\n",
       "    <tr>\n",
       "      <th>75%</th>\n",
       "      <td>NaN</td>\n",
       "      <td>NaN</td>\n",
       "      <td>NaN</td>\n",
       "      <td>NaN</td>\n",
       "      <td>NaN</td>\n",
       "      <td>NaN</td>\n",
       "      <td>191.000000</td>\n",
       "      <td>NaN</td>\n",
       "      <td>NaN</td>\n",
       "      <td>NaN</td>\n",
       "      <td>NaN</td>\n",
       "      <td>NaN</td>\n",
       "      <td>600.000000</td>\n",
       "      <td>NaN</td>\n",
       "      <td>NaN</td>\n",
       "      <td>NaN</td>\n",
       "      <td>NaN</td>\n",
       "      <td>NaN</td>\n",
       "    </tr>\n",
       "    <tr>\n",
       "      <th>max</th>\n",
       "      <td>NaN</td>\n",
       "      <td>NaN</td>\n",
       "      <td>NaN</td>\n",
       "      <td>NaN</td>\n",
       "      <td>NaN</td>\n",
       "      <td>NaN</td>\n",
       "      <td>16345.000000</td>\n",
       "      <td>NaN</td>\n",
       "      <td>NaN</td>\n",
       "      <td>NaN</td>\n",
       "      <td>NaN</td>\n",
       "      <td>NaN</td>\n",
       "      <td>6000.000000</td>\n",
       "      <td>NaN</td>\n",
       "      <td>NaN</td>\n",
       "      <td>NaN</td>\n",
       "      <td>NaN</td>\n",
       "      <td>NaN</td>\n",
       "    </tr>\n",
       "  </tbody>\n",
       "</table>\n",
       "</div>"
      ],
      "text/plain": [
       "                   name        address         listed_in(type)_x  \\\n",
       "count              9316           9316                      9316   \n",
       "unique             6512           8676                       870   \n",
       "top     Cafe Coffee Day  Delivery Only  ['Delivery', 'Dine-out']   \n",
       "freq                 49             21                       872   \n",
       "mean                NaN            NaN                       NaN   \n",
       "std                 NaN            NaN                       NaN   \n",
       "min                 NaN            NaN                       NaN   \n",
       "25%                 NaN            NaN                       NaN   \n",
       "50%                 NaN            NaN                       NaN   \n",
       "75%                 NaN            NaN                       NaN   \n",
       "max                 NaN            NaN                       NaN   \n",
       "\n",
       "                                                      url online_order  \\\n",
       "count                                                9316         9316   \n",
       "unique                                               9316            2   \n",
       "top     https://www.zomato.com/bangalore/just-bake-kor...          Yes   \n",
       "freq                                                    1         5705   \n",
       "mean                                                  NaN          NaN   \n",
       "std                                                   NaN          NaN   \n",
       "min                                                   NaN          NaN   \n",
       "25%                                                   NaN          NaN   \n",
       "50%                                                   NaN          NaN   \n",
       "75%                                                   NaN          NaN   \n",
       "max                                                   NaN          NaN   \n",
       "\n",
       "       book_table         votes         phone    location    rest_type  \\\n",
       "count        9316   9316.000000          9149        9316         9279   \n",
       "unique          2           NaN          8381          92           86   \n",
       "top            No           NaN  080 43334321  Whitefield  Quick Bites   \n",
       "freq         8393           NaN            55         617         3445   \n",
       "mean          NaN    242.149420           NaN         NaN          NaN   \n",
       "std           NaN    673.984948           NaN         NaN          NaN   \n",
       "min           NaN      0.000000           NaN         NaN          NaN   \n",
       "25%           NaN     16.000000           NaN         NaN          NaN   \n",
       "50%           NaN     53.000000           NaN         NaN          NaN   \n",
       "75%           NaN    191.000000           NaN         NaN          NaN   \n",
       "max           NaN  16345.000000           NaN         NaN          NaN   \n",
       "\n",
       "       dish_liked      cuisines         cost reviews_list menu_item  \\\n",
       "count        4577          9313  9284.000000         9316      9316   \n",
       "unique       4249          2246          NaN         8964      1990   \n",
       "top       Biryani  North Indian          NaN           []        []   \n",
       "freq           47           484          NaN          332      7314   \n",
       "mean          NaN           NaN   536.684511          NaN       NaN   \n",
       "std           NaN           NaN   426.150625          NaN       NaN   \n",
       "min           NaN           NaN    40.000000          NaN       NaN   \n",
       "25%           NaN           NaN   300.000000          NaN       NaN   \n",
       "50%           NaN           NaN   400.000000          NaN       NaN   \n",
       "75%           NaN           NaN   600.000000          NaN       NaN   \n",
       "max           NaN           NaN  6000.000000          NaN       NaN   \n",
       "\n",
       "       listed_in(type)_y listed_in(city) rating  \n",
       "count               9316            9316   9316  \n",
       "unique                 7              30      4  \n",
       "top             Delivery             BTM      2  \n",
       "freq                6519            1115   4037  \n",
       "mean                 NaN             NaN    NaN  \n",
       "std                  NaN             NaN    NaN  \n",
       "min                  NaN             NaN    NaN  \n",
       "25%                  NaN             NaN    NaN  \n",
       "50%                  NaN             NaN    NaN  \n",
       "75%                  NaN             NaN    NaN  \n",
       "max                  NaN             NaN    NaN  "
      ]
     },
     "execution_count": 17,
     "metadata": {},
     "output_type": "execute_result"
    }
   ],
   "source": [
    "newdata.describe(include = \"all\")"
   ]
  },
  {
   "cell_type": "code",
   "execution_count": 39,
   "metadata": {},
   "outputs": [],
   "source": [
    "predictors = newdata.drop(\"rating\", axis = 1)\n",
    "target = newdata[\"rating\"]\n",
    "X_train, X_test, y_train, y_test = train_test_split(predictors, target, random_state = 0, test_size = 0.3)\n"
   ]
  },
  {
   "cell_type": "code",
   "execution_count": 40,
   "metadata": {},
   "outputs": [],
   "source": [
    "num_cols = [\"votes\", \"cost\"]\n",
    "cat_cols = [\"location\", \"rest_type\", \"online_order\", \"book_table\"]\n",
    "num_imputer = SimpleImputer(strategy = \"median\")\n",
    "num_imputed = num_imputer.fit_transform(X_train[num_cols])\n",
    "scaler = StandardScaler()\n",
    "num_preprocessed = pd.DataFrame(scaler.fit_transform(num_imputed), columns = num_cols)\n",
    "cat_imputer = SimpleImputer( strategy = \"most_frequent\")\n",
    "cat_imputed = pd.DataFrame(cat_imputer.fit_transform(X_train[cat_cols]), columns = cat_cols)\n",
    "cat_preprocessed = pd.DataFrame(pd.get_dummies(cat_imputed, prefix = cat_cols, drop_first = True))\n",
    "train_predictors = pd.concat([num_preprocessed, cat_preprocessed], axis=1)"
   ]
  },
  {
   "cell_type": "code",
   "execution_count": 41,
   "metadata": {},
   "outputs": [],
   "source": [
    "test_num_imputed = num_imputer.transform(X_test[num_cols])\n",
    "test_num_preprocessed = pd.DataFrame(scaler.transform(test_num_imputed), columns = num_cols)\n",
    "test_cat_imputed = pd.DataFrame(cat_imputer.transform(X_test[cat_cols]), columns = cat_cols)\n",
    "test_cat_preprocessed = pd.DataFrame(pd.get_dummies(test_cat_imputed, prefix = cat_cols, drop_first = True))\n",
    "test_predictors = pd.concat([test_num_preprocessed, test_cat_preprocessed], axis=1)\n",
    "missing_cols = set(train_predictors) - set(test_predictors)\n",
    "for c in missing_cols:\n",
    "    test_predictors[c] = 0\n",
    "test_predictors = test_predictors[train_predictors.columns]"
   ]
  },
  {
   "cell_type": "code",
   "execution_count": 44,
   "metadata": {},
   "outputs": [
    {
     "data": {
      "text/plain": [
       "0.9937126207636866"
      ]
     },
     "execution_count": 44,
     "metadata": {},
     "output_type": "execute_result"
    }
   ],
   "source": [
    "#Decision Tree Classifier\n",
    "dt = DecisionTreeClassifier()\n",
    "dt.fit(train_predictors, y_train)\n",
    "pred_train = dt.predict(train_predictors)\n",
    "pred_test = dt.predict(test_predictors)\n",
    "accuracy_score(y_train, pred_train)"
   ]
  },
  {
   "cell_type": "code",
   "execution_count": 45,
   "metadata": {},
   "outputs": [
    {
     "data": {
      "text/plain": [
       "0.5660107334525939"
      ]
     },
     "execution_count": 45,
     "metadata": {},
     "output_type": "execute_result"
    }
   ],
   "source": [
    "accuracy_score(y_test, pred_test)"
   ]
  },
  {
   "cell_type": "code",
   "execution_count": 46,
   "metadata": {},
   "outputs": [
    {
     "data": {
      "text/plain": [
       "0.6931452231252875"
      ]
     },
     "execution_count": 46,
     "metadata": {},
     "output_type": "execute_result"
    }
   ],
   "source": [
    "# Random Forest Classifier\n",
    "rf = RandomForestClassifier(criterion = \"gini\", n_estimators = 250, max_depth = 10, \n",
    "                            max_features = 50, min_samples_split = 4, random_state = 0)\n",
    "rf.fit(train_predictors, y_train)\n",
    "pred_train = rf.predict(train_predictors)\n",
    "pred_test = rf.predict(test_predictors)\n",
    "accuracy_score(y_train, pred_train)"
   ]
  },
  {
   "cell_type": "code",
   "execution_count": 47,
   "metadata": {},
   "outputs": [
    {
     "data": {
      "text/plain": [
       "0.6805008944543828"
      ]
     },
     "execution_count": 47,
     "metadata": {},
     "output_type": "execute_result"
    }
   ],
   "source": [
    "accuracy_score(y_test, pred_test)"
   ]
  },
  {
   "cell_type": "code",
   "execution_count": 49,
   "metadata": {},
   "outputs": [
    {
     "name": "stdout",
     "output_type": "stream",
     "text": [
      "              precision    recall  f1-score   support\n",
      "\n",
      "           0       1.00      0.00      0.00       625\n",
      "           1       0.85      0.64      0.73      2059\n",
      "           2       0.61      0.92      0.73      2804\n",
      "           3       0.86      0.62      0.72      1033\n",
      "\n",
      "   micro avg       0.69      0.69      0.69      6521\n",
      "   macro avg       0.83      0.54      0.55      6521\n",
      "weighted avg       0.76      0.69      0.66      6521\n",
      "\n"
     ]
    }
   ],
   "source": [
    "print(classification_report(y_train, pred_train))"
   ]
  },
  {
   "cell_type": "code",
   "execution_count": 50,
   "metadata": {},
   "outputs": [
    {
     "name": "stdout",
     "output_type": "stream",
     "text": [
      "              precision    recall  f1-score   support\n",
      "\n",
      "           0       0.00      0.00      0.00       259\n",
      "           1       0.82      0.65      0.73       870\n",
      "           2       0.61      0.88      0.72      1233\n",
      "           3       0.78      0.58      0.66       433\n",
      "\n",
      "   micro avg       0.68      0.68      0.68      2795\n",
      "   macro avg       0.55      0.53      0.53      2795\n",
      "weighted avg       0.65      0.68      0.65      2795\n",
      "\n"
     ]
    },
    {
     "name": "stderr",
     "output_type": "stream",
     "text": [
      "/home/deepak/anaconda3/lib/python3.7/site-packages/sklearn/metrics/classification.py:1143: UndefinedMetricWarning: Precision and F-score are ill-defined and being set to 0.0 in labels with no predicted samples.\n",
      "  'precision', 'predicted', average, warn_for)\n"
     ]
    }
   ],
   "source": [
    "print(classification_report(y_test, pred_test))"
   ]
  },
  {
   "cell_type": "code",
   "execution_count": 53,
   "metadata": {},
   "outputs": [
    {
     "data": {
      "text/plain": [
       "(array(['1', '2', '3'], dtype=object), array([ 688, 1788,  319]))"
      ]
     },
     "execution_count": 53,
     "metadata": {},
     "output_type": "execute_result"
    }
   ],
   "source": [
    "np.unique(pred_test, return_counts = True)"
   ]
  },
  {
   "cell_type": "code",
   "execution_count": 54,
   "metadata": {},
   "outputs": [
    {
     "data": {
      "text/plain": [
       "(array(['0', '1', '2', '3'], dtype=object), array([   1, 1544, 4226,  750]))"
      ]
     },
     "execution_count": 54,
     "metadata": {},
     "output_type": "execute_result"
    }
   ],
   "source": [
    "np.unique(pred_train, return_counts = True)"
   ]
  },
  {
   "cell_type": "code",
   "execution_count": 56,
   "metadata": {},
   "outputs": [
    {
     "data": {
      "text/plain": [
       "0.7164545315135715"
      ]
     },
     "execution_count": 56,
     "metadata": {},
     "output_type": "execute_result"
    }
   ],
   "source": [
    "# XG Boost Classifier\n",
    "xgb = XGBClassifier(n_estimators = 250, max_depth = 20, gamma = 2, learning_rate = 0.001, random_state = 0)\n",
    "xgb.fit(train_predictors, y_train)\n",
    "pred_train = xgb.predict(train_predictors)\n",
    "pred_test = xgb.predict(test_predictors)\n",
    "accuracy_score(y_train,pred_train)"
   ]
  },
  {
   "cell_type": "code",
   "execution_count": 57,
   "metadata": {},
   "outputs": [
    {
     "data": {
      "text/plain": [
       "0.6669051878354204"
      ]
     },
     "execution_count": 57,
     "metadata": {},
     "output_type": "execute_result"
    }
   ],
   "source": [
    "accuracy_score(y_test, pred_test)"
   ]
  },
  {
   "cell_type": "code",
   "execution_count": null,
   "metadata": {},
   "outputs": [],
   "source": []
  }
 ],
 "metadata": {
  "kernelspec": {
   "display_name": "Python 3",
   "language": "python",
   "name": "python3"
  },
  "language_info": {
   "codemirror_mode": {
    "name": "ipython",
    "version": 3
   },
   "file_extension": ".py",
   "mimetype": "text/x-python",
   "name": "python",
   "nbconvert_exporter": "python",
   "pygments_lexer": "ipython3",
   "version": "3.7.3"
  }
 },
 "nbformat": 4,
 "nbformat_minor": 2
}
